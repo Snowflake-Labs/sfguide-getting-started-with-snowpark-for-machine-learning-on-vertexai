{
 "cells": [
  {
   "cell_type": "code",
   "execution_count": null,
   "id": "1c508b4b-a027-4ea0-be7b-32565606f605",
   "metadata": {},
   "outputs": [],
   "source": [
    "# use the below install method to quickly install packages for this lab\n",
    "#!pip install snowflake-snowpark-python pandas notebook scikit-learn cachetools pyarrow==10.0.1 snowflake[ml] "
   ]
  },
  {
   "cell_type": "code",
   "execution_count": null,
   "id": "03833389-2046-4cf6-b9d6-dd92be29ca6d",
   "metadata": {},
   "outputs": [],
   "source": [
    "# access data from snowflake\n",
    "import pandas as pd\n",
    "from snowflake.snowpark.session import Session\n",
    "from snowflake.snowpark.functions import *\n",
    "from snowflake.snowpark.types import *\n",
    "\n",
    "connection_parameters = {\n",
    "    \"account\": \"\",  \n",
    "    \"user\": \"\", \n",
    "    \"password\": \"\",\n",
    "    \"role\": \"ACCOUNTADMIN\",\n",
    "    \"warehouse\": \"HOL_WH\",\n",
    "    \"database\": \"HOL_DB\",\n",
    "    \"schema\": \"PUBLIC\"\n",
    "    }\n",
    "session = Session.builder.configs(connection_parameters).create()"
   ]
  },
  {
   "cell_type": "code",
   "execution_count": null,
   "id": "3a143485-5858-41c1-919f-065b05ee8801",
   "metadata": {},
   "outputs": [],
   "source": [
    "# Loading from local CSV-files\n",
    "city_udi_df = pd.read_csv('city_udi.csv')\n",
    "humidity_df = pd.read_csv('humidity.csv')\n",
    "maintenance_df = pd.read_csv('maintenance.csv')"
   ]
  },
  {
   "cell_type": "code",
   "execution_count": null,
   "id": "9b348c31-e85e-4888-b4ce-00923c5ce781",
   "metadata": {},
   "outputs": [],
   "source": [
    "# Upload to Snowflake\n",
    "session.write_pandas(city_udi_df, table_name='CITY_UDF', auto_create_table=True, overwrite=True)\n",
    "session.write_pandas(humidity_df, table_name='HUMIDITY', auto_create_table=True, overwrite=True)\n",
    "session.write_pandas(maintenance_df, table_name='MAINTENANCE', auto_create_table=True, overwrite=True)"
   ]
  }
 ],
 "metadata": {
  "environment": {
   "kernel": "conda-root-py",
   "name": "workbench-notebooks.m120",
   "type": "gcloud",
   "uri": "us-docker.pkg.dev/deeplearning-platform-release/gcr.io/workbench-notebooks:m120"
  },
  "kernelspec": {
   "display_name": "Python 3 (ipykernel)",
   "language": "python",
   "name": "conda-root-py"
  },
  "language_info": {
   "codemirror_mode": {
    "name": "ipython",
    "version": 3
   },
   "file_extension": ".py",
   "mimetype": "text/x-python",
   "name": "python",
   "nbconvert_exporter": "python",
   "pygments_lexer": "ipython3",
   "version": "3.10.14"
  }
 },
 "nbformat": 4,
 "nbformat_minor": 5
}
